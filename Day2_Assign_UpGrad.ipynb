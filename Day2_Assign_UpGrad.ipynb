{
  "nbformat": 4,
  "nbformat_minor": 0,
  "metadata": {
    "colab": {
      "name": "Day2 Assign UpGrad.ipynb",
      "provenance": []
    },
    "kernelspec": {
      "name": "python3",
      "display_name": "Python 3"
    },
    "language_info": {
      "name": "python"
    }
  },
  "cells": [
    {
      "cell_type": "code",
      "metadata": {
        "colab": {
          "base_uri": "https://localhost:8080/"
        },
        "id": "qZr-_hiI5uIC",
        "outputId": "e7efcb4b-b456-4ed0-db7f-d1ede2424141"
      },
      "source": [
        "#UpGrad Dy2-OTP GEN PROJECT(lets take 5 ch otp gen)\n",
        "import random as r\n",
        "import string\n",
        "\n",
        "length=5\n",
        "otp=''\n",
        "\n",
        "character=string.ascii_letters+string.digits\n",
        "print(character)#and frm this pool we hv to choose 6 random ch\n",
        "\n",
        "#so\n",
        "print(r.choice(character))#now to repeat it 6 times\n",
        "\n",
        "#so\n",
        "for i in range(length):\n",
        "  otp= otp + r.choice(character)\n",
        "print('OPT: ', otp)\n",
        "#jst chng the length of otp and get random otp's"
      ],
      "execution_count": 1,
      "outputs": [
        {
          "output_type": "stream",
          "text": [
            "abcdefghijklmnopqrstuvwxyzABCDEFGHIJKLMNOPQRSTUVWXYZ0123456789\n",
            "U\n",
            "OPT:  6r01Z\n"
          ],
          "name": "stdout"
        }
      ]
    }
  ]
}